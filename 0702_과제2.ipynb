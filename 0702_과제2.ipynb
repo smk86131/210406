{
 "cells": [
  {
   "cell_type": "code",
   "execution_count": 183,
   "metadata": {
    "scrolled": true
   },
   "outputs": [
    {
     "ename": "SyntaxError",
     "evalue": "unexpected EOF while parsing (<ipython-input-183-ecd08ec6a47c>, line 27)",
     "output_type": "error",
     "traceback": [
      "\u001b[1;36m  File \u001b[1;32m\"<ipython-input-183-ecd08ec6a47c>\"\u001b[1;36m, line \u001b[1;32m27\u001b[0m\n\u001b[1;33m    #     passengers.append(dic)\u001b[0m\n\u001b[1;37m                                ^\u001b[0m\n\u001b[1;31mSyntaxError\u001b[0m\u001b[1;31m:\u001b[0m unexpected EOF while parsing\n"
     ]
    }
   ],
   "source": [
    "import requests\n",
    "from bs4 import BeautifulSoup\n",
    "\n",
    "url = \"https://movie.naver.com/movie/bi/mi/basic.nhn?code=191631\"\n",
    "\n",
    "htmlText = requests.get(url).text\n",
    "bsoup = BeautifulSoup(htmlText, \"html.parser\")\n",
    "btab = bsoup.find(\"div\", {\"class\":\"score_result\"} )\n",
    "btrs = btab.find(\"ul\").find_all(\"li\")\n",
    "# btdcols = btrs[2].find_all(\"div\", {\"class\" : \"star_score\"})\n",
    "\n",
    "btds = btrs[2].find_all(\"p\")\n",
    "\n",
    "for tr in btrs:\n",
    "    \n",
    "\n",
    "\n",
    "# passengers = []\n",
    "\n",
    "# for tr in btrs[1:]  :\n",
    "#     dic = {}\n",
    "#     tds = tr.find_all(\"div\")\n",
    "#     dic['score'] = tds[0].text.strip()\n",
    "#     dic['sympathy'] = tds[2].text.strip()\n",
    "    \n",
    "\n",
    "#     passengers.append(dic)\n"
   ]
  },
  {
   "cell_type": "code",
   "execution_count": 111,
   "metadata": {},
   "outputs": [
    {
     "data": {
      "text/plain": [
       "[<p>\n",
       " <!-- 스포일러 컨텐츠로 처리되는지 여부 -->\n",
       " \t\t\t\t\t\t\t\t\t\t\t\t\t\t\n",
       " \t\t\t\t\t\t\t\t\t\t\t\t\t\t\n",
       " \t\t\t\t\t\t\t\t\t\t\t\t\t\t\n",
       " \t\t\t\t\t\t\t\t\t\t\t\t\t\t\n",
       " \t\t\t\t\t\t\t\t\t\t\t\t\t\t\t\n",
       " \t\t\t\t\t\t\t\t\t\t\t\t\t\t\t\n",
       " \t\t\t\t\t\t\t\t\t\t\t\t\t\t\t\t러닝타임이 너무 깁니다. 이야기에 별로 흥미를 끄는 요소도 없는데 길기까지하니 지루했어요. 음악이 좋았다면 그나마 나았겠지만, 노래도 별로였습니다. 노래가 전체적으로 상황이나 화면과 어울리지 않는 느낌이었어요. 여러모로 부족한 영화였습니다. \n",
       " \t\t\t\t\t\t\t\t\t\t\t\t\t\t\t\n",
       " \t\t\t\t\t\t\t\t\t\t\t\t\t\t\n",
       " \t\t\t\t\t\t\t\t\t\t\t\t\t\t\n",
       " \t\t\t\t\t\t\t\t\t\t\t\t\t</p>]"
      ]
     },
     "execution_count": 111,
     "metadata": {},
     "output_type": "execute_result"
    }
   ],
   "source": [
    "btds"
   ]
  },
  {
   "cell_type": "code",
   "execution_count": 202,
   "metadata": {},
   "outputs": [],
   "source": [
    "import requests\n",
    "from bs4 import BeautifulSoup\n",
    "\n",
    "url = \"https://movie.naver.com/movie/bi/mi/basic.nhn?code=191631\"\n",
    "\n",
    "htmlText = requests.get(url).text\n",
    "bsoup = BeautifulSoup(htmlText, \"html.parser\")\n",
    "btab = bsoup.find(\"div\", {\"class\":\"score_result\"} )\n",
    "btrs = btab.find(\"ul\").find_all(\"li\")\n",
    "btdcols = btrs[1].find_all(\"div\", {\"class\" : \"star_score\"})\n",
    "\n",
    "passengers = []\n",
    "\n",
    "for tr in btrs[1:]  :\n",
    "    dic = {}\n",
    "    tds = tr.find_all(\"div\")\n",
    "    dic['score'] = tds[0].text.strip().replace(' \\t', '').replace('\\n', '')\n",
    "    dic['review'] = tds[1].text.strip()\n",
    "    dic['sympathy'] = tds[2].text.strip()\n",
    "\n",
    "    passengers.append(dic)\n",
    "\n"
   ]
  },
  {
   "cell_type": "code",
   "execution_count": 200,
   "metadata": {},
   "outputs": [
    {
     "data": {
      "text/plain": [
       "[{'score': '7',\n",
       "  'review': '하루종일 노래만 부르는 동네 사람들 \\r\\n\\t\\t\\t\\t\\t\\t\\t\\t\\t\\t\\t\\t\\t\\t\\t\\r\\n\\t\\t\\t\\t\\t\\t\\t\\t\\t\\t\\t\\t\\t\\t\\r\\n\\t\\t\\t\\t\\t\\t\\t\\t\\t\\t\\t\\t\\t\\t\\r\\n\\t\\t\\t\\t\\t\\t\\t\\t\\t\\t\\t\\t\\t\\n\\n\\n\\n\\npon0****\\n\\n\\n2021.06.30 21:33\\n\\n\\n신고',\n",
       "  'sympathy': '공감22\\n비공감6'},\n",
       " {'score': '5',\n",
       "  'review': '러닝타임이 너무 깁니다. 이야기에 별로 흥미를 끄는 요소도 없는데 길기까지하니 지루했어요. 음악이 좋았다면 그나마 나았겠지만, 노래도 별로였습니다. 노래가 전체적으로 상황이나 화면과 어울리지 않는 느낌이었어요. 여러모로 부족한 영화였습니다. \\r\\n\\t\\t\\t\\t\\t\\t\\t\\t\\t\\t\\t\\t\\t\\t\\t\\r\\n\\t\\t\\t\\t\\t\\t\\t\\t\\t\\t\\t\\t\\t\\t\\r\\n\\t\\t\\t\\t\\t\\t\\t\\t\\t\\t\\t\\t\\t\\t\\r\\n\\t\\t\\t\\t\\t\\t\\t\\t\\t\\t\\t\\t\\t\\n\\n\\n\\n\\n브로콜리(nsea****)\\n\\n\\n2021.06.30 20:25\\n\\n\\n신고',\n",
       "  'sympathy': '공감22\\n비공감8'},\n",
       " {'score': '9',\n",
       "  'review': '평점 보러 들어왓는데... 개봉일 9시부터 재밌다고 하는 사람들을 믿고 보러가도 되는걸까? \\r\\n\\t\\t\\t\\t\\t\\t\\t\\t\\t\\t\\t\\t\\t\\t\\t\\r\\n\\t\\t\\t\\t\\t\\t\\t\\t\\t\\t\\t\\t\\t\\t\\r\\n\\t\\t\\t\\t\\t\\t\\t\\t\\t\\t\\t\\t\\t\\t\\r\\n\\t\\t\\t\\t\\t\\t\\t\\t\\t\\t\\t\\t\\t\\n\\n\\n\\n\\n배정은(clum****)\\n\\n\\n2021.06.30 10:38\\n\\n\\n신고',\n",
       "  'sympathy': '공감24\\n비공감12'},\n",
       " {'score': '8',\n",
       "  'review': '이민자들의 삶과 노래, 과거에 얽매여서도 미래에 사로잡혀서도 안 된다는, 내가 지금 살아가는 이 순간을 살아가야 한다고 말하고 있다. \\r\\n\\t\\t\\t\\t\\t\\t\\t\\t\\t\\t\\t\\t\\t\\t\\t\\r\\n\\t\\t\\t\\t\\t\\t\\t\\t\\t\\t\\t\\t\\t\\t\\r\\n\\t\\t\\t\\t\\t\\t\\t\\t\\t\\t\\t\\t\\t\\t\\r\\n\\t\\t\\t\\t\\t\\t\\t\\t\\t\\t\\t\\t\\t\\n\\n\\n\\n\\ntyk1****\\n\\n\\n2021.06.30 13:38\\n\\n\\n신고',\n",
       "  'sympathy': '공감15\\n비공감4'}]"
      ]
     },
     "execution_count": 200,
     "metadata": {},
     "output_type": "execute_result"
    }
   ],
   "source": [
    "passengers"
   ]
  },
  {
   "cell_type": "code",
   "execution_count": 204,
   "metadata": {},
   "outputs": [],
   "source": [
    "from tkinter import Tk, ttk, Label, Button, Text, END\n",
    "\n",
    "window = Tk()\n",
    "window.title(\"영화평점및댓글프로그램\")\n",
    "window.geometry(\"1300x400\")\n",
    "window.resizable(0,0)\n",
    "\n",
    "title = \"영화평점및댓글\"\n",
    "title_feature = Label(window, text = title, font = (\"Noto Sans KR\", 20))\n",
    "title_feature.pack(padx = 10, pady = 15)\n",
    "\n",
    "treeTable = ttk.Treeview(window)\n",
    "treeTable[\"columns\"] = (\"score\", \"review\", \"sympathy\")\n",
    "treeTable.column(\"#0\", width = 50, anchor = \"center\")\n",
    "treeTable.column(\"score\", width = 100, anchor = \"center\")\n",
    "treeTable.column(\"review\", width = 800, anchor = \"center\")\n",
    "treeTable.column(\"sympathy\", width = 150, anchor = \"center\")\n",
    "\n",
    "treeTable.heading(\"#0\", text=\"No.\", anchor = \"center\")\n",
    "treeTable.heading(\"score\", text = \"평점\", anchor = \"center\")\n",
    "treeTable.heading(\"review\", text = \"리뷰\", anchor = \"center\")\n",
    "treeTable.heading(\"sympathy\", text = \"공감\", anchor = \"center\")\n",
    "\n",
    "\n",
    "def setTableItem() :\n",
    "    treeTable.delete(*treeTable.get_children())\n",
    "    for idx, report in enumerate(passengers) :\n",
    "        score = report['score']\n",
    "        review = report['review']\n",
    "        sympathy = report['sympathy']\n",
    "        treeTable.insert(\"\", 'end', iid = None, text = str(idx), values = [score, review, sympathy])\n",
    "\n",
    "\n",
    "\n",
    "\n",
    "\n",
    "setTableItem()\n",
    "treeTable.place(x = 10, y = 90, width=1200, height=200)\n",
    "\n",
    "\n",
    "\n",
    "window.mainloop()"
   ]
  },
  {
   "cell_type": "code",
   "execution_count": null,
   "metadata": {},
   "outputs": [],
   "source": []
  }
 ],
 "metadata": {
  "kernelspec": {
   "display_name": "Python 3",
   "language": "python",
   "name": "python3"
  },
  "language_info": {
   "codemirror_mode": {
    "name": "ipython",
    "version": 3
   },
   "file_extension": ".py",
   "mimetype": "text/x-python",
   "name": "python",
   "nbconvert_exporter": "python",
   "pygments_lexer": "ipython3",
   "version": "3.8.5"
  }
 },
 "nbformat": 4,
 "nbformat_minor": 4
}
