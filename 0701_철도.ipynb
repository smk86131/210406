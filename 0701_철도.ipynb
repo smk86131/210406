{
 "cells": [
  {
   "cell_type": "code",
   "execution_count": 40,
   "metadata": {},
   "outputs": [],
   "source": [
    "import requests\n",
    "from bs4 import BeautifulSoup\n",
    "\n",
    "\n",
    "url = \"http://www.kric.go.kr/jsp/industry/rss/citystapassList.jsp?q_org_cd=A010010024&q_fdate=2021\"\n",
    "htmlText = requests.get(url).text\n",
    "bsoup = BeautifulSoup(htmlText, \"html.parser\")\n",
    "btab = bsoup.find(\"table\", {\"class\":\"listtbl_c100\"} )\n",
    "btrs = btab.find(\"tbody\").find_all(\"tr\")\n",
    "btdcols = btrs[2].find_all(\"td\", {\"class\" : \"tdcol\"})\n",
    "btds = btrs[1].find_all(\"td\")\n",
    "\n",
    "passengers = []\n",
    "\n",
    "for tr in btrs[1:]  :\n",
    "    dic = {}\n",
    "    tds = tr.find_all(\"td\")\n",
    "    dic['station'] = tds[0].text\n",
    "    dic['ride'] = tds[2].text\n",
    "    dic['alight'] = tds[3].text\n",
    "    passengers.append(dic)"
   ]
  },
  {
   "cell_type": "code",
   "execution_count": 41,
   "metadata": {},
   "outputs": [
    {
     "data": {
      "text/plain": [
       "[{'station': '대곡역', 'ride': '280,043', 'alight': '259,323'},\n",
       " {'station': '진천역', 'ride': '286,002', 'alight': '284,565'},\n",
       " {'station': '월배역', 'ride': '192,265', 'alight': '190,418'},\n",
       " {'station': '상인역', 'ride': '496,673', 'alight': '494,759'},\n",
       " {'station': '월촌역', 'ride': '197,143', 'alight': '193,855'},\n",
       " {'station': '송현역', 'ride': '170,162', 'alight': '171,938'},\n",
       " {'station': '성당못역', 'ride': '386,345', 'alight': '373,346'},\n",
       " {'station': '대명역', 'ride': '129,304', 'alight': '129,101'},\n",
       " {'station': '안지랑역', 'ride': '195,179', 'alight': '194,365'},\n",
       " {'station': '현충로역', 'ride': '156,963', 'alight': '154,001'},\n",
       " {'station': '영대병원역', 'ride': '216,105', 'alight': '224,576'},\n",
       " {'station': '교대역', 'ride': '156,276', 'alight': '152,832'},\n",
       " {'station': '명덕역1', 'ride': '145,342', 'alight': '159,230'},\n",
       " {'station': '반월당역1', 'ride': '362,794', 'alight': '528,436'}]"
      ]
     },
     "execution_count": 41,
     "metadata": {},
     "output_type": "execute_result"
    }
   ],
   "source": [
    "passengers"
   ]
  },
  {
   "cell_type": "code",
   "execution_count": null,
   "metadata": {},
   "outputs": [],
   "source": []
  }
 ],
 "metadata": {
  "kernelspec": {
   "display_name": "Python 3",
   "language": "python",
   "name": "python3"
  },
  "language_info": {
   "codemirror_mode": {
    "name": "ipython",
    "version": 3
   },
   "file_extension": ".py",
   "mimetype": "text/x-python",
   "name": "python",
   "nbconvert_exporter": "python",
   "pygments_lexer": "ipython3",
   "version": "3.8.5"
  }
 },
 "nbformat": 4,
 "nbformat_minor": 4
}
