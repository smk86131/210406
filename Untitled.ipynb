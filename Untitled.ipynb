{
 "cells": [
  {
   "cell_type": "code",
   "execution_count": 77,
   "metadata": {},
   "outputs": [
    {
     "name": "stdout",
     "output_type": "stream",
     "text": [
      "숫자를 입력하세요: 1\n",
      "1 보다 큽니다\n",
      "숫자를 입력하세요: 2\n",
      "2 보다 큽니다\n",
      "숫자를 입력하세요: 3\n",
      "3 보다 큽니다\n",
      "숫자를 입력하세요: 1\n",
      "1 보다 큽니다\n",
      "숫자를 입력하세요: 10\n",
      "10 보다 작습니다\n",
      "숫자를 입력하세요: 9\n",
      "9 보다 작습니다\n",
      "숫자를 입력하세요: 8\n",
      "8 보다 작습니다\n",
      "숫자를 입력하세요: 7\n",
      "정답입니다\n"
     ]
    }
   ],
   "source": [
    "import random\n",
    "correct_answer = random.randint(1, 20)\n",
    "\n",
    "while True :\n",
    "    number = int(input(\"숫자를 입력하세요: \"))\n",
    "\n",
    "    if correct_answer == number :\n",
    "        break\n",
    "    elif correct_answer > number :\n",
    "        print(number, \"보다 큽니다\")\n",
    "    else :\n",
    "        print(number, \"보다 작습니다\")\n",
    "\n",
    "print(\"정답입니다\")\n"
   ]
  },
  {
   "cell_type": "code",
   "execution_count": null,
   "metadata": {},
   "outputs": [],
   "source": []
  }
 ],
 "metadata": {
  "kernelspec": {
   "display_name": "Python 3",
   "language": "python",
   "name": "python3"
  },
  "language_info": {
   "codemirror_mode": {
    "name": "ipython",
    "version": 3
   },
   "file_extension": ".py",
   "mimetype": "text/x-python",
   "name": "python",
   "nbconvert_exporter": "python",
   "pygments_lexer": "ipython3",
   "version": "3.8.5"
  }
 },
 "nbformat": 4,
 "nbformat_minor": 4
}
