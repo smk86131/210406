{
 "cells": [
  {
   "cell_type": "code",
   "execution_count": 66,
   "metadata": {},
   "outputs": [],
   "source": [
    "import requests\n",
    "from bs4 import BeautifulSoup\n",
    "\n",
    "\n",
    "url = \"http://www.kric.go.kr/jsp/industry/rss/citystapassList.jsp?q_org_cd=A010010024&q_fdate=2021\"\n",
    "htmlText = requests.get(url).text\n",
    "bsoup = BeautifulSoup(htmlText, \"html.parser\")\n",
    "btab = bsoup.find(\"table\", {\"class\":\"listtbl_c100\"} )\n",
    "btrs = btab.find(\"tbody\").find_all(\"tr\")\n",
    "btdcols = btrs[2].find_all(\"td\", {\"class\" : \"tdcol\"})\n",
    "btds = btrs[1].find_all(\"td\")\n",
    "\n",
    "passengers = []\n",
    "\n",
    "for tr in btrs[1:]  :\n",
    "    dic = {}\n",
    "    tds = tr.find_all(\"td\")\n",
    "    dic['station'] = tds[0].text\n",
    "    dic['ride'] = tds[2].text\n",
    "    dic['alight'] = tds[3].text\n",
    "    passengers.append(dic)"
   ]
  },
  {
   "cell_type": "code",
   "execution_count": 72,
   "metadata": {},
   "outputs": [],
   "source": [
    "from tkinter import Tk, ttk, Label, Button, Text, END\n",
    "\n",
    "window = Tk()\n",
    "window.title(\"지하철 승하차 인원관리 프로그램\")\n",
    "window.geometry(\"400x400\")\n",
    "window.resizable(0,0)\n",
    "\n",
    "title = \"지하철 승하차 인원관리\"\n",
    "title_feature = Label(window, text = title, font = (\"Noto Sans KR\", 20))\n",
    "title_feature.pack(padx = 10, pady = 15)\n",
    "\n",
    "treeTable = ttk.Treeview(window)\n",
    "treeTable[\"columns\"] = (\"station\", \"ride\", \"alight\")\n",
    "treeTable.column(\"#0\", width = 50)\n",
    "treeTable.column(\"station\", width = 50)\n",
    "treeTable.column(\"ride\", width = 50)\n",
    "treeTable.column(\"alight\", width = 50)\n",
    "\n",
    "treeTable.heading(\"#0\", text=\"No.\", anchor = \"center\")\n",
    "treeTable.heading(\"station\", text = \"역이름\", anchor = \"center\")\n",
    "treeTable.heading(\"ride\", text = \"승차인원\", anchor = \"center\")\n",
    "treeTable.heading(\"alight\", text = \"하차인원\", anchor = \"center\")\n",
    "\n",
    "def setTableItem() :\n",
    "    treeTable.delete(*treeTable.get_children())\n",
    "    for idx, report in enumerate(passengers) :\n",
    "        station = report['station']\n",
    "        ride = report['ride']\n",
    "        alight = report['alight']\n",
    "        treeTable.insert(\"\", 'end', iid = None, text = str(idx), values = [station, ride, alight])\n",
    "\n",
    "setTableItem()\n",
    "treeTable.place(x = 10, y =90, width=380, height=200)\n",
    "\n",
    "window.mainloop()"
   ]
  },
  {
   "cell_type": "code",
   "execution_count": null,
   "metadata": {},
   "outputs": [],
   "source": []
  }
 ],
 "metadata": {
  "kernelspec": {
   "display_name": "Python 3",
   "language": "python",
   "name": "python3"
  },
  "language_info": {
   "codemirror_mode": {
    "name": "ipython",
    "version": 3
   },
   "file_extension": ".py",
   "mimetype": "text/x-python",
   "name": "python",
   "nbconvert_exporter": "python",
   "pygments_lexer": "ipython3",
   "version": "3.8.5"
  }
 },
 "nbformat": 4,
 "nbformat_minor": 4
}
